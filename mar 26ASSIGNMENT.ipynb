{
 "cells": [
  {
   "cell_type": "markdown",
   "id": "54194b01-cf47-49c4-a0c9-2b7d18ef4d77",
   "metadata": {},
   "source": [
    "#26 MARCH ASSIGNMENT"
   ]
  },
  {
   "cell_type": "markdown",
   "id": "481e70a7-7657-4e46-ad30-e3e9cc57ef8f",
   "metadata": {},
   "source": [
    "Q1. Explain the difference between simple linear regression and multiple linear regression. Provide an\n",
    "example of each"
   ]
  },
  {
   "cell_type": "markdown",
   "id": "ad51737d-d7fa-4717-b65c-941dc4e66f41",
   "metadata": {},
   "source": [
    "#ANSWER==\n",
    "Simple linear regression has only one x and one y variable.\n",
    "Multiple linear regression has one y and two or more x variables.\n",
    "For instance, when we predict rent based on square feet alone that is simple linear regression.\n",
    "When we predict rent based on square feet and age of the building that is an example of multiple linear regression."
   ]
  },
  {
   "cell_type": "markdown",
   "id": "59dc9d37-c81c-475e-8dbc-673076ebc984",
   "metadata": {},
   "source": [
    "Q2. Discuss the assumptions of linear regression. How can you check whether these assumptions hold in\n",
    "a given dataset?"
   ]
  },
  {
   "cell_type": "markdown",
   "id": "389b5538-d628-481a-bee9-5f549eafb95a",
   "metadata": {},
   "source": [
    "#ANSWER==\n",
    "There is a linear relationship between the predictors (x) and the outcome (y)\n",
    "Predictors (x) are independent and observed with negligible error\n",
    "Residual Errors have a mean value of zero\n",
    "Residual Errors have constant variance\n",
    "Residual Errors are independent from each other and predictors (x)"
   ]
  },
  {
   "cell_type": "markdown",
   "id": "ca772af3-fdff-42b9-a661-ac9b189ab556",
   "metadata": {},
   "source": [
    "Q3. How do you interpret the slope and intercept in a linear regression model? Provide an example using\n",
    "a real-world scenario."
   ]
  },
  {
   "cell_type": "code",
   "execution_count": null,
   "id": "3e6e8783-1d94-42c2-bc8d-96875a6efd78",
   "metadata": {},
   "outputs": [],
   "source": [
    "#ANSWER==\n",
    "Example . Data were collected on the depth of a dive of penguins and the duration of\n",
    "the dive. The following linear model is a fairly good summary of the data, where t is the\n",
    "duration of the dive in minutes and d is the depth of the dive in yards. The equation for\n",
    "the model is d t = + 0.015 2.915\n",
    "Interpret the slope: If the duration of the dive increases by 1 minute, we predict the\n",
    "depth of the dive will increase by approximately 2.915 yards.\n",
    "Interpret the intercept. If the duration of the dive is 0 seconds, then we predict the\n",
    "depth of the dive is 0.015 yards. "
   ]
  },
  {
   "cell_type": "markdown",
   "id": "47e1babe-188b-428c-9a57-2dc9eb1681ad",
   "metadata": {},
   "source": [
    "Q4. Explain the concept of gradient descent. How is it used in machine learning?"
   ]
  },
  {
   "cell_type": "markdown",
   "id": "054f6494-bd13-451d-80f9-4bd0ff5fb9d4",
   "metadata": {},
   "source": [
    "#ANSWER==\n",
    "Gradient descent is an optimization algorithm which is commonly-used to train machine learning models and neural networks. Training data helps these models learn over time, and the cost function within gradient descent specifically acts as a barometer, gauging its accuracy with each iteration of parameter updates"
   ]
  },
  {
   "cell_type": "markdown",
   "id": "785c30eb-1e4b-424c-9889-597b741944f8",
   "metadata": {},
   "source": [
    "Q5. Describe the multiple linear regression model. How does it differ from simple linear regression?"
   ]
  },
  {
   "cell_type": "markdown",
   "id": "9d2db71a-e45d-4025-a045-1a13f2a83392",
   "metadata": {},
   "source": [
    "#ANSWER==\n",
    "Multiple regression is a broader class of regressions that encompasses linear and nonlinear regressions with multiple explanatory variables. Whereas linear regress only has one independent variable impacting the slope of the relationship, multiple regression incorporates multiple independent variables."
   ]
  },
  {
   "cell_type": "markdown",
   "id": "51a432dd-0730-427c-91e8-ae8adcf2f7f3",
   "metadata": {},
   "source": [
    "Q6. Explain the concept of multicollinearity in multiple linear regression. How can you detect and\n",
    "address this issue?"
   ]
  },
  {
   "cell_type": "markdown",
   "id": "4a5a47bc-8e51-4ce5-aaea-20229cdb1948",
   "metadata": {},
   "source": [
    "#ANSWER==\n",
    "Multicollinearity happens when independent variables in the regression model are highly correlated to each other. It makes it hard to interpret of model and also creates an overfitting problem. It is a common assumption that people test before selecting the variables into the regression model."
   ]
  },
  {
   "cell_type": "markdown",
   "id": "5311530d-774e-4319-938a-f7d86eefad09",
   "metadata": {},
   "source": [
    "Q7. Describe the polynomial regression model. How is it different from linear regression?"
   ]
  },
  {
   "cell_type": "markdown",
   "id": "e6e336bc-1320-450c-8d2f-ea8b32d00d87",
   "metadata": {},
   "source": [
    "#ANSWER==\n",
    "Polynomial regression is a form of Linear regression where only due to the Non-linear relationship between dependent and independent variables, we add some polynomial terms to linear regression to convert it into Polynomial regression."
   ]
  },
  {
   "cell_type": "markdown",
   "id": "352c7237-426b-41ae-86f9-06c382ba8e1b",
   "metadata": {},
   "source": [
    "Q8. What are the advantages and disadvantages of polynomial regression compared to linear\n",
    "regression? In what situations would you prefer to use polynomial regression?"
   ]
  },
  {
   "cell_type": "markdown",
   "id": "57ef8e91-95e5-47a0-817d-d45c0606a109",
   "metadata": {},
   "source": [
    "#ANSWER==\n",
    "#Advantages of using Polynomial Regression:\n",
    "Polynomial provides the best approximation of the relationship between the dependent and independent variable.\n",
    "A Broad range of function can be fit under it.\n",
    "Polynomial basically fits a wide range of curvature.\n",
    "\n",
    "#Disadvantages of using polynomial regression=\n",
    "One or two outliers in the data might have a significant impact on the nonlinear analysis' outcomes. These are overly reliant on outliers. Furthermore, there are fewer model validation methods for detecting outliers in nonlinear regression than there are for linear regression"
   ]
  }
 ],
 "metadata": {
  "kernelspec": {
   "display_name": "Python 3 (ipykernel)",
   "language": "python",
   "name": "python3"
  },
  "language_info": {
   "codemirror_mode": {
    "name": "ipython",
    "version": 3
   },
   "file_extension": ".py",
   "mimetype": "text/x-python",
   "name": "python",
   "nbconvert_exporter": "python",
   "pygments_lexer": "ipython3",
   "version": "3.10.8"
  }
 },
 "nbformat": 4,
 "nbformat_minor": 5
}
